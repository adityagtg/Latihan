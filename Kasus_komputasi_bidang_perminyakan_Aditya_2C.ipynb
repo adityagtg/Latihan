{
 "cells": [
  {
   "cell_type": "markdown",
   "id": "12bf8c80",
   "metadata": {},
   "source": [
    "# Menghitung Volume Reservoir"
   ]
  },
  {
   "cell_type": "code",
   "execution_count": 12,
   "id": "fbac98ae",
   "metadata": {},
   "outputs": [
    {
     "name": "stdout",
     "output_type": "stream",
     "text": [
      "Masukkan jari-jari reservoir (dalam satuan cm): 30\n",
      "Masukkan tinggi reservoir (dalam satuan cm): 1000\n",
      "Volume reservoir adalah: 2827433.39 cm^3\n"
     ]
    }
   ],
   "source": [
    "import math\n",
    "\n",
    "def hitung_volume_reservoir(r, h):\n",
    "    volume = math.pi * r**2 * h\n",
    "    return volume\n",
    "\n",
    "# Program meminta user untuk memasukkan input nilai\n",
    "r = float(input(\"Masukkan jari-jari reservoir (dalam satuan cm): \"))\n",
    "h = float(input(\"Masukkan tinggi reservoir (dalam satuan cm): \"))\n",
    "\n",
    "volume_reservoir = hitung_volume_reservoir(r, h)\n",
    "print(\"Volume reservoir adalah: {:.2f} cm^3\".format(volume_reservoir))\n"
   ]
  },
  {
   "cell_type": "markdown",
   "id": "3d1b59bc",
   "metadata": {},
   "source": [
    "# Menghitung Porositas"
   ]
  },
  {
   "cell_type": "code",
   "execution_count": 14,
   "id": "1348a1ec",
   "metadata": {},
   "outputs": [
    {
     "name": "stdout",
     "output_type": "stream",
     "text": [
      "Masukkan volume pori (dalam satuan cm^3): 15\n",
      "Masukkan volume batuan (dalam satuan cm^3): 10\n",
      "Porositas batuan adalah: 150.00%\n"
     ]
    }
   ],
   "source": [
    "def hitung_porositas(Vp, Vb):\n",
    "    porositas = (Vp / Vb) * 100\n",
    "    return porositas\n",
    "\n",
    "# Program meminta user untuk memasukkan input nilai\n",
    "Vp = float(input(\"Masukkan volume pori (dalam satuan cm^3): \"))\n",
    "Vb = float(input(\"Masukkan volume batuan (dalam satuan cm^3): \"))\n",
    "\n",
    "porositas = hitung_porositas(Vp, Vb)\n",
    "print(\"Porositas batuan adalah: {:.2f}%\".format(porositas))\n"
   ]
  },
  {
   "cell_type": "markdown",
   "id": "34918942",
   "metadata": {},
   "source": [
    "# Menghitung Laju Air Minyak"
   ]
  },
  {
   "cell_type": "code",
   "execution_count": 16,
   "id": "d1137fab",
   "metadata": {},
   "outputs": [
    {
     "name": "stdout",
     "output_type": "stream",
     "text": [
      "Masukkan volume minyak (dalam barrel): 15\n",
      "Masukkan waktu (dalam jam): 2\n",
      "Laju alir minyak adalah: 7.50 barrel/jam\n"
     ]
    }
   ],
   "source": [
    "def hitung_laju_alir_minyak(volume, waktu):\n",
    "    laju_alir = volume / waktu\n",
    "    return laju_alir\n",
    "\n",
    "# Program meminta user untuk memasukkan input nilai\n",
    "volume = float(input(\"Masukkan volume minyak (dalam barrel): \"))\n",
    "waktu = float(input(\"Masukkan waktu (dalam jam): \"))\n",
    "\n",
    "laju_alir_minyak = hitung_laju_alir_minyak(volume, waktu)\n",
    "print(\"Laju alir minyak adalah: {:.2f} barrel/jam\".format(laju_alir_minyak))\n"
   ]
  },
  {
   "cell_type": "markdown",
   "id": "a7a85647",
   "metadata": {},
   "source": [
    "# Menghitung Faktor Pemulihan      (Recovery Factor) dengan Material Balance\n"
   ]
  },
  {
   "cell_type": "code",
   "execution_count": 17,
   "id": "f6038308",
   "metadata": {},
   "outputs": [
    {
     "name": "stdout",
     "output_type": "stream",
     "text": [
      "Masukkan jumlah minyak awal di tempat (N) (dalam satuan barrel): 15\n",
      "Masukkan jumlah minyak yang diproduksi (Np) (dalam satuan barrel): 10\n",
      "Faktor pemulihan (Recovery Factor) adalah: 0.87\n"
     ]
    }
   ],
   "source": [
    "def hitung_faktor_pemulihan(N, Np, m=0.1):\n",
    "    recovery_factor = Np / (Np + (N * m))\n",
    "    return recovery_factor\n",
    "\n",
    "# Program meminta user untuk memasukkan nilai input\n",
    "N = float(input(\"Masukkan jumlah minyak awal di tempat (N) (dalam satuan barrel): \"))\n",
    "Np = float(input(\"Masukkan jumlah minyak yang diproduksi (Np) (dalam satuan barrel): \"))\n",
    "\n",
    "recovery_factor = hitung_faktor_pemulihan(N, Np)\n",
    "print(\"Faktor pemulihan (Recovery Factor) adalah: {:.2f}\".format(recovery_factor))\n"
   ]
  },
  {
   "cell_type": "markdown",
   "id": "44f698a7",
   "metadata": {},
   "source": [
    "# Menghitung Permeabilitas Efektif"
   ]
  },
  {
   "cell_type": "code",
   "execution_count": 18,
   "id": "e568e4a4",
   "metadata": {
    "scrolled": true
   },
   "outputs": [
    {
     "name": "stdout",
     "output_type": "stream",
     "text": [
      "Masukkan nilai permeabilitas relatif air (krw): 10\n",
      "Masukkan nilai saturasi air (Sw) antara 0.1 hingga 0.9: 0.5\n",
      "Masukkan nilai saturasi minyak residual (Sor) antara 0.1 hingga 0.9: 0.4\n",
      "Permeabilitas efektif adalah: 0.0250\n"
     ]
    }
   ],
   "source": [
    "def hitung_permeabilitas_efektif(krw, Sw, Sor, n, m):\n",
    "    kr = krw * (Sw**n) * (1 - Sor - Sw)**m\n",
    "    return kr\n",
    "\n",
    "# Program meminta user untuk memasukkan input nilai krw, Sw, dan Sor\n",
    "krw = float(input(\"Masukkan nilai permeabilitas relatif air (krw): \"))\n",
    "Sw = float(input(\"Masukkan nilai saturasi air (Sw) antara 0.1 hingga 0.9: \"))\n",
    "Sor = float(input(\"Masukkan nilai saturasi minyak residual (Sor) antara 0.1 hingga 0.9: \"))\n",
    "\n",
    "# Pastikan Sw dan Sor berada dalam rentang yang valid (0.1 hingga 0.9)\n",
    "if not (0.1 <= Sw <= 0.9) or not (0.1 <= Sor <= 0.9):\n",
    "    print(\"Error: Nilai Sw dan Sor harus berada dalam rentang 0.1 hingga 0.9.\")\n",
    "else:\n",
    "    # Tentukan nilai eksponen Corey (n dan m)\n",
    "    n = 2\n",
    "    m = 2\n",
    "    \n",
    "permeabilitas_efektif = hitung_permeabilitas_efektif(krw, Sw, Sor, n, m)\n",
    "print(\"Permeabilitas efektif adalah: {:.4f}\".format(permeabilitas_efektif))\n"
   ]
  },
  {
   "cell_type": "code",
   "execution_count": null,
   "id": "a7130426",
   "metadata": {},
   "outputs": [],
   "source": []
  }
 ],
 "metadata": {
  "kernelspec": {
   "display_name": "Python 3 (ipykernel)",
   "language": "python",
   "name": "python3"
  },
  "language_info": {
   "codemirror_mode": {
    "name": "ipython",
    "version": 3
   },
   "file_extension": ".py",
   "mimetype": "text/x-python",
   "name": "python",
   "nbconvert_exporter": "python",
   "pygments_lexer": "ipython3",
   "version": "3.11.5"
  }
 },
 "nbformat": 4,
 "nbformat_minor": 5
}
