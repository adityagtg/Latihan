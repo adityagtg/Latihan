{
 "cells": [
  {
   "cell_type": "code",
   "execution_count": 1,
   "id": "64f9b161",
   "metadata": {},
   "outputs": [],
   "source": [
    "# Diketahui array : [1, 7], [0, 5], [2, 4]\n",
    "#                 : [0, 0], [7, 9], [3, 2]  6 digit nomor hp dari belakang"
   ]
  },
  {
   "cell_type": "code",
   "execution_count": 2,
   "id": "03a699e1",
   "metadata": {},
   "outputs": [
    {
     "name": "stdout",
     "output_type": "stream",
     "text": [
      "[[ 0  0]\n",
      " [ 0 45]\n",
      " [ 6  8]]\n"
     ]
    }
   ],
   "source": [
    "# perkalian matriks array\n",
    "\n",
    "import numpy as np\n",
    "\n",
    "A = np.array([[1, 7], [0, 5], [2, 4]])\n",
    "B = np.array([[0, 0], [7, 9], [3, 2]])\n",
    "\n",
    "kali = A * B\n",
    "print(kali)"
   ]
  },
  {
   "cell_type": "code",
   "execution_count": 3,
   "id": "10444f30",
   "metadata": {},
   "outputs": [
    {
     "name": "stdout",
     "output_type": "stream",
     "text": [
      "[[ 1  7]\n",
      " [-7 -4]\n",
      " [-1  2]]\n"
     ]
    }
   ],
   "source": [
    "# pengurangan matriks array\n",
    "\n",
    "import numpy as np\n",
    "\n",
    "A = np.array([[1, 7], [0, 5], [2, 4]])\n",
    "B = np.array([[0, 0], [7, 9], [3, 2]])\n",
    "\n",
    "kurang = A - B\n",
    "print(kurang)\n"
   ]
  },
  {
   "cell_type": "code",
   "execution_count": 5,
   "id": "eec80a68",
   "metadata": {},
   "outputs": [
    {
     "name": "stdout",
     "output_type": "stream",
     "text": [
      "[[1 0 2]\n",
      " [7 5 4]]\n",
      "[[0 7 3]\n",
      " [0 9 2]]\n"
     ]
    }
   ],
   "source": [
    "# transpose matriks array\n",
    "\n",
    "import numpy as np\n",
    "\n",
    "A = np.array([[1, 7], [0, 5], [2, 4]])\n",
    "B = np.array([[0, 0], [7, 9], [3, 2]])\n",
    "\n",
    "transpose_A = np.transpose(A)\n",
    "print(transpose_A)\n",
    "\n",
    "transpose_B = np.transpose(B)\n",
    "print(transpose_B)"
   ]
  },
  {
   "cell_type": "code",
   "execution_count": 4,
   "id": "797561fe",
   "metadata": {},
   "outputs": [
    {
     "name": "stdout",
     "output_type": "stream",
     "text": [
      "\n",
      "Invers matriks A:\n",
      "[[-0.4  0.5]\n",
      " [ 0.2  0. ]]\n",
      "\n",
      "Invers matriks B:\n",
      "[[-0.15384615  0.69230769]\n",
      " [ 0.23076923 -0.53846154]]\n"
     ]
    }
   ],
   "source": [
    "# invers matriks array\n",
    "\n",
    "import numpy as np\n",
    "\n",
    "A = np.array([[0, 5], [2, 4]])\n",
    "B = np.array([[7, 9], [3, 2]])\n",
    "\n",
    "inverse_A = np.linalg.inv(A)\n",
    "print(\"\\nInvers matriks A:\")\n",
    "print(inverse_A)\n",
    "\n",
    "inverse_B = np.linalg.inv(B)\n",
    "print(\"\\nInvers matriks B:\")\n",
    "print(inverse_B)"
   ]
  },
  {
   "cell_type": "code",
   "execution_count": 6,
   "id": "62e415f2",
   "metadata": {},
   "outputs": [
    {
     "name": "stdout",
     "output_type": "stream",
     "text": [
      "Determinan dari matriks A: -9.999999999999998\n",
      "Determinan dari matriks B: -13.0\n"
     ]
    }
   ],
   "source": [
    "# determinan matriks array\n",
    "\n",
    "import numpy as np\n",
    "\n",
    "A = np.array([[0, 5], [2, 4]])\n",
    "B = np.array([[7, 9], [3, 2]])\n",
    "\n",
    "determinant_A = np.linalg.det(A)\n",
    "print(\"Determinan dari matriks A:\", determinant_A)\n",
    "\n",
    "determinant_B = np.linalg.det(B)\n",
    "print(\"Determinan dari matriks B:\", determinant_B)"
   ]
  }
 ],
 "metadata": {
  "kernelspec": {
   "display_name": "Python 3 (ipykernel)",
   "language": "python",
   "name": "python3"
  },
  "language_info": {
   "codemirror_mode": {
    "name": "ipython",
    "version": 3
   },
   "file_extension": ".py",
   "mimetype": "text/x-python",
   "name": "python",
   "nbconvert_exporter": "python",
   "pygments_lexer": "ipython3",
   "version": "3.11.5"
  }
 },
 "nbformat": 4,
 "nbformat_minor": 5
}
