{
 "cells": [
  {
   "cell_type": "code",
   "execution_count": 1,
   "id": "03a699e1",
   "metadata": {},
   "outputs": [
    {
     "name": "stdout",
     "output_type": "stream",
     "text": [
      "[[ 0  0]\n",
      " [63 45]\n",
      " [ 3 12]]\n"
     ]
    }
   ],
   "source": [
    "# perkalian matriks array\n",
    "\n",
    "import numpy as np\n",
    "\n",
    "A = np.array([[0, 8], [9, 5], [1, 6]])\n",
    "B = np.array([[0, 0], [7, 9], [3, 2]])\n",
    "\n",
    "kali = A * B\n",
    "print(kali)"
   ]
  },
  {
   "cell_type": "code",
   "execution_count": 3,
   "id": "10444f30",
   "metadata": {},
   "outputs": [
    {
     "name": "stdout",
     "output_type": "stream",
     "text": [
      "[[ 0  8]\n",
      " [ 2 -4]\n",
      " [-2  4]]\n"
     ]
    }
   ],
   "source": [
    "# pengurangan matriks array\n",
    "\n",
    "import numpy as np\n",
    "\n",
    "A = np.array([[0, 8], [9, 5], [1, 6]])\n",
    "B = np.array([[0, 0], [7, 9], [3, 2]])\n",
    "\n",
    "kurang = A - B\n",
    "print(kurang)\n"
   ]
  },
  {
   "cell_type": "code",
   "execution_count": 8,
   "id": "eec80a68",
   "metadata": {},
   "outputs": [
    {
     "name": "stdout",
     "output_type": "stream",
     "text": [
      "[[0 9 1]\n",
      " [8 5 6]]\n",
      "[[0 7 3]\n",
      " [0 9 2]]\n"
     ]
    }
   ],
   "source": [
    "# transpose matriks array\n",
    "\n",
    "import numpy as np\n",
    "\n",
    "A = np.array([[0, 8], [9, 5], [1, 6]])\n",
    "B = np.array([[0, 0], [7, 9], [3, 2]])\n",
    "\n",
    "transpose_A = np.transpose(A)\n",
    "print(transpose_A)\n",
    "\n",
    "transpose_B = np.transpose(B)\n",
    "print(transpose_B)"
   ]
  },
  {
   "cell_type": "code",
   "execution_count": 13,
   "id": "797561fe",
   "metadata": {},
   "outputs": [
    {
     "name": "stdout",
     "output_type": "stream",
     "text": [
      "\n",
      "Invers matriks A:\n",
      "[[-0.06944444  0.11111111]\n",
      " [ 0.125       0.        ]]\n",
      "\n",
      "Invers matriks B:\n",
      "[[-0.27272727  0.18181818]\n",
      " [ 0.21212121 -0.03030303]]\n"
     ]
    }
   ],
   "source": [
    "# invers matriks array\n",
    "\n",
    "import numpy as np\n",
    "\n",
    "A = np.array([[0, 8], [9, 5]])\n",
    "B = np.array([[1, 6], [7, 9]])\n",
    "\n",
    "inverse_A = np.linalg.inv(A)\n",
    "print(\"\\nInvers matriks A:\")\n",
    "print(inverse_A)\n",
    "\n",
    "inverse_B = np.linalg.inv(B)\n",
    "print(\"\\nInvers matriks B:\")\n",
    "print(inverse_B)"
   ]
  },
  {
   "cell_type": "code",
   "execution_count": 7,
   "id": "62e415f2",
   "metadata": {},
   "outputs": [
    {
     "name": "stdout",
     "output_type": "stream",
     "text": [
      "Determinan dari matriks A: -72.0\n",
      "Determinan dari matriks B: 0.0\n"
     ]
    }
   ],
   "source": [
    "# determinan matriks array\n",
    "\n",
    "import numpy as np\n",
    "\n",
    "A = np.array([[0, 8], [9, 5]])\n",
    "B = np.array([[0, 0], [7, 9]])\n",
    "\n",
    "determinant_A = np.linalg.det(A)\n",
    "print(\"Determinan dari matriks A:\", determinant_A)\n",
    "\n",
    "determinant_B = np.linalg.det(B)\n",
    "print(\"Determinan dari matriks B:\", determinant_B)"
   ]
  }
 ],
 "metadata": {
  "kernelspec": {
   "display_name": "Python 3 (ipykernel)",
   "language": "python",
   "name": "python3"
  },
  "language_info": {
   "codemirror_mode": {
    "name": "ipython",
    "version": 3
   },
   "file_extension": ".py",
   "mimetype": "text/x-python",
   "name": "python",
   "nbconvert_exporter": "python",
   "pygments_lexer": "ipython3",
   "version": "3.11.5"
  }
 },
 "nbformat": 4,
 "nbformat_minor": 5
}
